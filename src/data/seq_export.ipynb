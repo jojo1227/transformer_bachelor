{
 "cells": [
  {
   "cell_type": "code",
   "execution_count": 2,
   "metadata": {},
   "outputs": [
    {
     "name": "stdout",
     "output_type": "stream",
     "text": [
      "Statistiken:\n",
      "Anzahl Zeilen: 41291622\n",
      "Anzahl Sequenzen: 431895\n",
      "Sequenzen nach Subject: 224146\n",
      "Sequenzen nach Executable: 207749\n",
      "Durchschnittliche Länge: 95.60\n"
     ]
    }
   ],
   "source": [
    "import psycopg2\n",
    "import numpy as np\n",
    "import matplotlib.pyplot as plt\n",
    "from utils.Database_Connection import DatabaseConnection\n",
    "from sequence_processor import SequenceProcessor\n",
    "\n",
    "conn = DatabaseConnection(\n",
    "    host='localhost',\n",
    "    database='cadets-e3-local',\n",
    "    user='studi',\n",
    "    password='studi',\n",
    "    port=7654\n",
    ")\n",
    "processor = SequenceProcessor(conn)\n",
    "processor.process_sequences()\n",
    "\n",
    "print(f\"Statistiken:\")\n",
    "print(f\"Anzahl Zeilen: {processor.stats['total_rows']}\")\n",
    "print(f\"Anzahl Sequenzen: {processor.stats['total_sequences']}\")\n",
    "print(f\"Sequenzen nach Subject: {processor.stats['sequences_by_subject']}\")\n",
    "print(f\"Sequenzen nach Executable: {processor.stats['sequences_by_executable']}\")\n",
    "print(f\"Durchschnittliche Länge: {processor.stats['total_length'] / processor.stats['total_sequences']:.2f}\")"
   ]
  },
  {
   "cell_type": "markdown",
   "metadata": {},
   "source": [
    "\n",
    "### Sequence Processor\n",
    "- in diesem ersten Teil werden die Exucatables aus den Prozessen gezogen und es wird für jedes Executable ein Eintrag angelegt\n",
    "\n",
    "\n",
    "### Anmerkungen\n",
    "- ich habe im Gegensatz zu jannik ein primary key erstellt, um die eindeutigkeit der sequenzen zu gewährleisten\n",
    "- Warum habe ich weniger Zeilen als Jannik?\n",
    "    - generell habe ich ca 2000000 events und jannik ca 40000000\n",
    "    - Habe ich villeicht nicht alle Daten kopiert in meinen Docker Container?\n",
    "    - Hat das initial_clenaup.sql viele Daten gelöscht?\n",
    "    - Ergebniss von Jannik:\n",
    "        - count_rows: 41291622\n",
    "        - count_sequences: 431896\n",
    "        - count_sequences_by_subject: 224147\n",
    "        - count_sequences_by_executable: 207749\n",
    "        - avg length: 95.6036846833497\n",
    "- Es ist wichtig zu beachten, das ich nur die Daten zum Training verwende, in denen keine Angriffe stattgefunden haben. Dies ist notwendig, um sicherzustellen, dass die Trainingsdaten nur gutartige Daten enthalten. \n",
    "    - der erste Angriff hat am 2018-04-06 um 11:00 Uhr stattgefunden\n",
    "- Wichtig ist zu schauen, das beim filtern der einzelnen Sequenzen im Prozess nicht nach dem executable gruppiert wird, da sonst 2 eigentlich unterschiedliche Sequenzen zu einer Sequenz zusammengefasst werden, wenn sie das gleiche executable haben.\n",
    "    - dieses Problem wird gelöst, indem die sequenzen nach der sequence_long geordnet werden, diese gibt nämlich die Reihenfolge der events an\n",
    "\n",
    "    "
   ]
  },
  {
   "cell_type": "markdown",
   "metadata": {},
   "source": []
  },
  {
   "cell_type": "code",
   "execution_count": 2,
   "metadata": {},
   "outputs": [
    {
     "name": "stdout",
     "output_type": "stream",
     "text": [
      "{'total_events': 21307067, 'total_sequences': 131603}\n"
     ]
    }
   ],
   "source": [
    "from SequenceEventProcessor import SequenceEventProcessor\n",
    "from utils.Database_Connection import DatabaseConnection\n",
    "\n",
    "\n",
    "conn = DatabaseConnection(\n",
    "    host='localhost',\n",
    "    database='cadets-e3-local',\n",
    "    user='studi',\n",
    "    password='studi',\n",
    "    port=7654\n",
    ")\n",
    "\n",
    "events_processor = SequenceEventProcessor(conn)\n",
    "events_processor.process_sequence_events()\n",
    "\n",
    "print(events_processor.stats)"
   ]
  },
  {
   "cell_type": "code",
   "execution_count": 1,
   "metadata": {},
   "outputs": [
    {
     "name": "stdout",
     "output_type": "stream",
     "text": [
      "['EVENT_CLOSE', 'EVENT_OPEN', 'EVENT_CLOSE', 'EVENT_EXECUTE', 'EVENT_OPEN', 'EVENT_READ', 'EVENT_CLOSE', 'EVENT_OPEN', 'EVENT_READ', 'EVENT_READ', 'EVENT_CLOSE', 'EVENT_OPEN', 'EVENT_MMAP', 'EVENT_MMAP', 'EVENT_MMAP', 'EVENT_MMAP', 'EVENT_MMAP', 'EVENT_MMAP', 'EVENT_CLOSE', 'EVENT_OPEN', 'EVENT_MMAP', 'EVENT_MMAP', 'EVENT_MMAP', 'EVENT_MMAP', 'EVENT_MMAP', 'EVENT_MMAP', 'EVENT_CLOSE', 'EVENT_OPEN', 'EVENT_MMAP', 'EVENT_MMAP', 'EVENT_MMAP', 'EVENT_MMAP', 'EVENT_MMAP', 'EVENT_MMAP', 'EVENT_CLOSE', 'EVENT_OPEN', 'EVENT_MMAP', 'EVENT_MMAP', 'EVENT_MMAP', 'EVENT_MMAP', 'EVENT_MMAP', 'EVENT_MMAP', 'EVENT_CLOSE', 'EVENT_OPEN', 'EVENT_MMAP', 'EVENT_MMAP', 'EVENT_MMAP', 'EVENT_MMAP', 'EVENT_MMAP', 'EVENT_MMAP', 'EVENT_CLOSE', 'EVENT_OPEN', 'EVENT_MMAP', 'EVENT_MMAP', 'EVENT_MMAP', 'EVENT_MMAP', 'EVENT_MMAP', 'EVENT_MMAP', 'EVENT_CLOSE', 'EVENT_OPEN', 'EVENT_MMAP', 'EVENT_MMAP', 'EVENT_MMAP', 'EVENT_MMAP', 'EVENT_MMAP', 'EVENT_MMAP', 'EVENT_CLOSE', 'EVENT_OPEN', 'EVENT_MMAP', 'EVENT_MMAP', 'EVENT_CLOSE', 'EVENT_WRITE', 'EVENT_WRITE', 'EVENT_WRITE', 'EVENT_EXIT']\n",
      "vmstat\n"
     ]
    }
   ],
   "source": [
    "from Sequence_Exporter import SequenceDataExporter\n",
    "from utils.Database_Connection import DatabaseConnection\n",
    "\n",
    "\n",
    "conn2 = DatabaseConnection(\n",
    "    host='localhost',\n",
    "    database='cadets-e3-local',\n",
    "    user='studi',\n",
    "    password='studi',\n",
    "    port=7654\n",
    ")\n",
    "\n",
    "exporter = SequenceDataExporter(conn2)\n",
    "exporter.export_sequences(\"data.npy\", \"targets.npy\")\n",
    "\n"
   ]
  },
  {
   "cell_type": "code",
   "execution_count": null,
   "metadata": {},
   "outputs": [],
   "source": []
  }
 ],
 "metadata": {
  "kernelspec": {
   "display_name": "myvenv",
   "language": "python",
   "name": "python3"
  },
  "language_info": {
   "codemirror_mode": {
    "name": "ipython",
    "version": 3
   },
   "file_extension": ".py",
   "mimetype": "text/x-python",
   "name": "python",
   "nbconvert_exporter": "python",
   "pygments_lexer": "ipython3",
   "version": "3.12.7"
  }
 },
 "nbformat": 4,
 "nbformat_minor": 2
}

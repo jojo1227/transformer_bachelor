{
 "cells": [
  {
   "cell_type": "code",
   "execution_count": 2,
   "metadata": {},
   "outputs": [
    {
     "ename": "ModuleNotFoundError",
     "evalue": "No module named 'utils'",
     "output_type": "error",
     "traceback": [
      "\u001b[0;31m---------------------------------------------------------------------------\u001b[0m",
      "\u001b[0;31mModuleNotFoundError\u001b[0m                       Traceback (most recent call last)",
      "Cell \u001b[0;32mIn[2], line 2\u001b[0m\n\u001b[1;32m      1\u001b[0m \u001b[38;5;28;01mimport\u001b[39;00m \u001b[38;5;21;01mos\u001b[39;00m\n\u001b[0;32m----> 2\u001b[0m \u001b[38;5;28;01mfrom\u001b[39;00m \u001b[38;5;21;01mutils\u001b[39;00m \u001b[38;5;28;01mimport\u001b[39;00m load_sequences\n\u001b[1;32m      5\u001b[0m sequences , targets \u001b[38;5;241m=\u001b[39m load_sequences(sequences_file\u001b[38;5;241m=\u001b[39m\u001b[38;5;124m\"\u001b[39m\u001b[38;5;124m/Users/johannes/Documents/Uni/transformer_bachelor/data/data.npy\u001b[39m\u001b[38;5;124m\"\u001b[39m, targets_file\u001b[38;5;241m=\u001b[39m\u001b[38;5;124m\"\u001b[39m\u001b[38;5;124m/Users/johannes/Documents/Uni/transformer_bachelor/data/targets.npy\u001b[39m\u001b[38;5;124m\"\u001b[39m)\n\u001b[1;32m      7\u001b[0m \u001b[38;5;28mprint\u001b[39m(\u001b[38;5;124mf\u001b[39m\u001b[38;5;124m\"\u001b[39m\u001b[38;5;124mLänge der Sequenzen: \u001b[39m\u001b[38;5;132;01m{\u001b[39;00m\u001b[38;5;28mlen\u001b[39m(sequences)\u001b[38;5;132;01m}\u001b[39;00m\u001b[38;5;124m\"\u001b[39m)\n",
      "\u001b[0;31mModuleNotFoundError\u001b[0m: No module named 'utils'"
     ]
    }
   ],
   "source": [
    "import os\n",
    "from utils import load_sequences\n",
    "\n",
    "\n",
    "sequences , targets = load_sequences(sequences_file=\"/Users/johannes/Documents/Uni/transformer_bachelor/data/data.npy\", targets_file=\"/Users/johannes/Documents/Uni/transformer_bachelor/data/targets.npy\")\n",
    "\n",
    "print(f\"Länge der Sequenzen: {len(sequences)}\")\n",
    "print(f\"Länge der Targets: {len(targets)}\")\n",
    "print(sequences[0])\n",
    "print(targets[0])"
   ]
  },
  {
   "cell_type": "code",
   "execution_count": 8,
   "metadata": {},
   "outputs": [
    {
     "name": "stdout",
     "output_type": "stream",
     "text": [
      "Total classes: 114\n",
      "Unusable classes: 73\n",
      "Rare classes: 8\n",
      "Usable classes: 41\n",
      "Unusable classes: [np.str_('nginx'), np.str_('sudo'), np.str_('ls'), np.str_('screen'), np.str_('pickup'), np.str_('sed'), np.str_('tee'), np.str_('csh'), np.str_('dhclient'), np.str_('route'), np.str_('less'), np.str_('ps'), np.str_('devd'), np.str_('grep'), np.str_('hostname'), np.str_('lockf'), np.str_('php-fpm'), np.str_('init'), np.str_('cmp'), np.str_('adjkerntz'), np.str_('uname'), np.str_('minions'), np.str_('ifconfig'), np.str_('egrep'), np.str_('awk'), np.str_('mktemp'), np.str_('XIM'), np.str_('bzip2'), np.str_('su'), np.str_('kenv'), np.str_('tr'), np.str_('smtp'), np.str_('mount'), np.str_('ipfstat'), np.str_('stat'), np.str_('sort'), np.str_('expr'), np.str_('xz'), np.str_('basename'), np.str_('wc'), np.str_('tty'), np.str_('mail'), np.str_('touch'), np.str_('chown'), np.str_('mailwrapper'), np.str_('getty'), np.str_('pw'), np.str_('cut'), np.str_('chkgrp'), np.str_('diff'), np.str_('df'), np.str_('nohup'), np.str_('env'), np.str_('pfctl'), np.str_('nawk'), np.str_('uniq'), np.str_('bzcat'), np.str_('links'), np.str_('stty'), np.str_('ssh'), np.str_('vi'), np.str_('pwd_mkdb'), np.str_('limits'), np.str_('ipfw'), np.str_('jot'), np.str_('postmap'), np.str_('locale'), np.str_('kill'), np.str_('msgs'), np.str_('ping'), np.str_('kldstat'), np.str_('bounce'), np.str_('tail')]\n",
      "Rare classes: [np.str_('wget'), np.str_('find'), np.str_('newsyslog'), np.str_('cat'), np.str_('uptime'), np.str_('pkg'), np.str_('mkdir'), np.str_('dmesg')]\n",
      "Usable classes: [np.str_('vmstat'), np.str_('bash'), np.str_('sleep'), np.str_('imapd'), np.str_('date'), np.str_('unlink'), np.str_('inetd'), np.str_('sshd'), np.str_('local'), np.str_('mv'), np.str_('proxymap'), np.str_('top'), np.str_('head'), np.str_('lsof'), np.str_('trivial-rewrite'), np.str_('cron'), np.str_('mlock'), np.str_('sh'), np.str_('dd'), np.str_('wget'), np.str_('sysctl'), np.str_('cleanup'), np.str_('atrun'), np.str_('resizewin'), np.str_('fortune'), np.str_('find'), np.str_('python2.7'), np.str_('anvil'), np.str_('netstat'), np.str_('newsyslog'), np.str_('rm'), np.str_('cat'), np.str_('master'), np.str_('uptime'), np.str_('smtpd'), np.str_('sendmail'), np.str_('pkg'), np.str_('mkdir'), np.str_('dmesg'), np.str_('alpine'), np.str_('cp')]\n",
      "Länge der gefilterten Sequenzen: 130982\n",
      "Länge der gefilterten Targets: 130982\n",
      "['EVENT_CLOSE', 'EVENT_OPEN', 'EVENT_CLOSE', 'EVENT_EXECUTE', 'EVENT_OPEN', 'EVENT_READ', 'EVENT_CLOSE', 'EVENT_OPEN', 'EVENT_READ', 'EVENT_READ', 'EVENT_CLOSE', 'EVENT_OPEN', 'EVENT_MMAP', 'EVENT_MMAP', 'EVENT_MMAP', 'EVENT_MMAP', 'EVENT_MMAP', 'EVENT_MMAP', 'EVENT_CLOSE', 'EVENT_OPEN', 'EVENT_MMAP', 'EVENT_MMAP', 'EVENT_MMAP', 'EVENT_MMAP', 'EVENT_MMAP', 'EVENT_MMAP', 'EVENT_CLOSE', 'EVENT_OPEN', 'EVENT_MMAP', 'EVENT_MMAP', 'EVENT_MMAP', 'EVENT_MMAP', 'EVENT_MMAP', 'EVENT_MMAP', 'EVENT_CLOSE', 'EVENT_OPEN', 'EVENT_MMAP', 'EVENT_MMAP', 'EVENT_MMAP', 'EVENT_MMAP', 'EVENT_MMAP', 'EVENT_MMAP', 'EVENT_CLOSE', 'EVENT_OPEN', 'EVENT_MMAP', 'EVENT_MMAP', 'EVENT_MMAP', 'EVENT_MMAP', 'EVENT_MMAP', 'EVENT_MMAP', 'EVENT_CLOSE', 'EVENT_OPEN', 'EVENT_MMAP', 'EVENT_MMAP', 'EVENT_MMAP', 'EVENT_MMAP', 'EVENT_MMAP', 'EVENT_MMAP', 'EVENT_CLOSE', 'EVENT_OPEN', 'EVENT_MMAP', 'EVENT_MMAP', 'EVENT_MMAP', 'EVENT_MMAP', 'EVENT_MMAP', 'EVENT_MMAP', 'EVENT_CLOSE', 'EVENT_OPEN', 'EVENT_MMAP', 'EVENT_MMAP', 'EVENT_CLOSE', 'EVENT_WRITE', 'EVENT_WRITE', 'EVENT_WRITE', 'EVENT_EXIT']\n",
      "vmstat\n"
     ]
    }
   ],
   "source": [
    "from TargetFilter import TargetFilter\n",
    "from utils import save_filtered_data\n",
    "# Assuming you have sequences and targets from your previous export\n",
    "filter = TargetFilter(unusable_threshold=50, rare_threshold=100)\n",
    "\n",
    "# Filter out low-frequency targets\n",
    "filtered_sequences, filtered_targets, filtering_info = filter.filter_data(targets, sequences)\n",
    "\n",
    "\n",
    "# Print filtering information\n",
    "print(f\"Total classes: {filtering_info['total_classes']}\")\n",
    "print(f\"Unusable classes: {len(filtering_info['unusable_classes'])}\")\n",
    "print(f\"Rare classes: {len(filtering_info['rare_classes'])}\")\n",
    "print(f\"Usable classes: {len(filtering_info['usable_classes'])}\")\n",
    "print(f\"Unusable classes: {filtering_info['unusable_classes']}\")\n",
    "print(f\"Rare classes: {filtering_info['rare_classes']}\")\n",
    "print(f\"Usable classes: {filtering_info['usable_classes']}\")\n",
    "\n",
    "print(f\"Länge der gefilterten Sequenzen: {len(filtered_sequences)}\")\n",
    "print(f\"Länge der gefilterten Targets: {len(filtered_targets)}\")\n",
    "\n",
    "print(filtered_sequences[0])\n",
    "print(filtered_targets[0])\n",
    "\n",
    "\n",
    "save_filtered_data( filtered_sequences, filtered_targets, \"/Users/johannes/Documents/Uni/transformer_bachelor/data/processed/sequences_filtered.npy\", \"/Users/johannes/Documents/Uni/transformer_bachelor/data/processed/targets_filtered.npy\")\n",
    "\n",
    "\n",
    "\n",
    "\n",
    "\n",
    "\n"
   ]
  },
  {
   "cell_type": "code",
   "execution_count": 1,
   "metadata": {},
   "outputs": [
    {
     "ename": "ModuleNotFoundError",
     "evalue": "No module named 'DataSplitter'",
     "output_type": "error",
     "traceback": [
      "\u001b[0;31m---------------------------------------------------------------------------\u001b[0m",
      "\u001b[0;31mModuleNotFoundError\u001b[0m                       Traceback (most recent call last)",
      "Cell \u001b[0;32mIn[1], line 1\u001b[0m\n\u001b[0;32m----> 1\u001b[0m \u001b[38;5;28;01mfrom\u001b[39;00m \u001b[38;5;21;01mDataSplitter\u001b[39;00m \u001b[38;5;28;01mimport\u001b[39;00m DataSplitter\n\u001b[1;32m      2\u001b[0m \u001b[38;5;28;01mfrom\u001b[39;00m \u001b[38;5;21;01mutils\u001b[39;00m \u001b[38;5;28;01mimport\u001b[39;00m plot_target_distribution\n\u001b[1;32m      4\u001b[0m splitter \u001b[38;5;241m=\u001b[39m DataSplitter(\n\u001b[1;32m      5\u001b[0m     sequences_file\u001b[38;5;241m=\u001b[39m\u001b[38;5;124m'\u001b[39m\u001b[38;5;124m/Users/johannes/Documents/Uni/transformer_bachelor/data/processed/sequences_filtered.npy\u001b[39m\u001b[38;5;124m'\u001b[39m,\n\u001b[1;32m      6\u001b[0m     targets_file\u001b[38;5;241m=\u001b[39m\u001b[38;5;124m'\u001b[39m\u001b[38;5;124m/Users/johannes/Documents/Uni/transformer_bachelor/data/processed/targets_filtered.npy\u001b[39m\u001b[38;5;124m'\u001b[39m,\n\u001b[1;32m      7\u001b[0m )\n",
      "\u001b[0;31mModuleNotFoundError\u001b[0m: No module named 'DataSplitter'"
     ]
    }
   ],
   "source": [
    "from DataSplitter import DataSplitter\n",
    "from utils import plot_target_distribution\n",
    "  \n",
    "splitter = DataSplitter(\n",
    "    sequences_file='/Users/johannes/Documents/Uni/transformer_bachelor/data/processed/sequences_filtered.npy',\n",
    "    targets_file='/Users/johannes/Documents/Uni/transformer_bachelor/data/processed/targets_filtered.npy',\n",
    ")\n",
    "\n",
    "splitter.save_splits(output_dir='/Users/johannes/Documents/Uni/transformer_bachelor/data/processed')\n",
    "\n",
    "\n"
   ]
  },
  {
   "cell_type": "code",
   "execution_count": 3,
   "metadata": {},
   "outputs": [
    {
     "ename": "ModuleNotFoundError",
     "evalue": "No module named 'utils'",
     "output_type": "error",
     "traceback": [
      "\u001b[0;31m---------------------------------------------------------------------------\u001b[0m",
      "\u001b[0;31mModuleNotFoundError\u001b[0m                       Traceback (most recent call last)",
      "Cell \u001b[0;32mIn[3], line 1\u001b[0m\n\u001b[0;32m----> 1\u001b[0m \u001b[38;5;28;01mfrom\u001b[39;00m \u001b[38;5;21;01mutils\u001b[39;00m \u001b[38;5;28;01mimport\u001b[39;00m load_sequences\n\u001b[1;32m      3\u001b[0m encoder \u001b[38;5;241m=\u001b[39m Encoder()\n\u001b[1;32m      6\u001b[0m sequences, targets \u001b[38;5;241m=\u001b[39m load_sequences(\u001b[38;5;124m\"\u001b[39m\u001b[38;5;124m/Users/johannes/Documents/Uni/transformer_bachelor/data/processed/train_sequences.npy\u001b[39m\u001b[38;5;124m\"\u001b[39m, \u001b[38;5;124m\"\u001b[39m\u001b[38;5;124m/Users/johannes/Documents/Uni/transformer_bachelor/data/processed/train_targets.npy\u001b[39m\u001b[38;5;124m\"\u001b[39m)\n",
      "\u001b[0;31mModuleNotFoundError\u001b[0m: No module named 'utils'"
     ]
    }
   ],
   "source": [
    "from Encoder import Encoder\n",
    "from utils import load_sequences\n",
    "\n",
    "encoder = Encoder()\n",
    "\n",
    "\n",
    "sequences, targets = load_sequences(\"/Users/johannes/Documents/Uni/transformer_bachelor/data/processed/train_sequences.npy\", \"/Users/johannes/Documents/Uni/transformer_bachelor/data/processed/train_targets.npy\")\n",
    "print(len(sequences))\n",
    "print(len(targets))\n",
    "\n",
    "\n",
    "# Erstellen der Vokabulare\n",
    "encoder.build_vocabulary(sequences, targets)\n",
    "\n",
    "print(\"Event-Mappings:\")\n",
    "print(encoder.idx_to_event)\n",
    "\n",
    "print(\"Vocabulary-Size:\" , encoder.vocab_size)\n",
    "\n",
    "print(\"Token-Mappings:\")\n",
    "print(encoder.idx_to_event)\n",
    "\n",
    "# Erstellen der Token-IDs\n",
    "sequences_encoded , targets_encoded = encoder.encode_sequences(sequences, targets)\n",
    "\n",
    "print(\"sequences_encoded[0]:\")\n",
    "print(sequences_encoded[0])\n",
    "print(\"targets_encoded[0]:\")\n",
    "print(targets_encoded[0])\n",
    "\n",
    "\n",
    "\n",
    "# Brauche ich die Überlappung?\n",
    "sequences_encoded_splitted, targets_encoded_splitted = encoder.split_long_sequences(sequences, targets)\n",
    "print(len(sequences_encoded_splitted))\n",
    "print(len(targets_encoded_splitted))\n",
    "\n",
    "# Padding\n",
    "sequences_encoded_splitted_padded, targets_encoded_splitted_padded = encoder.pad_sequences(sequences_encoded_splitted, targets_encoded_splitted)\n",
    "print(len(sequences_encoded_splitted_padded))\n",
    "print(len(targets_encoded_splitted_padded))\n",
    "print(sequences_encoded_splitted_padded[0])\n",
    "print(targets_encoded_splitted_padded[0])\n",
    "\n",
    "\n",
    "\n",
    "\n",
    "\n"
   ]
  }
 ],
 "metadata": {
  "kernelspec": {
   "display_name": "myvenv",
   "language": "python",
   "name": "python3"
  },
  "language_info": {
   "codemirror_mode": {
    "name": "ipython",
    "version": 3
   },
   "file_extension": ".py",
   "mimetype": "text/x-python",
   "name": "python",
   "nbconvert_exporter": "python",
   "pygments_lexer": "ipython3",
   "version": "3.12.7"
  }
 },
 "nbformat": 4,
 "nbformat_minor": 2
}

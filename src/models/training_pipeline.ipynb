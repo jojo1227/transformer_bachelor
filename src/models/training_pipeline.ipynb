{
 "cells": [
  {
   "cell_type": "code",
   "execution_count": 1,
   "metadata": {},
   "outputs": [
    {
     "name": "stdout",
     "output_type": "stream",
     "text": [
      "Feature batch shape: torch.Size([64, 512])\n",
      "Labels batch shape: torch.Size([64])\n",
      "Feature batch shape: torch.Size([64, 512])\n",
      "Labels batch shape: torch.Size([64])\n"
     ]
    }
   ],
   "source": [
    "from src.datasets.CustomDataset import CustomDataset\n",
    "import torch\n",
    "\n",
    "training_data  = CustomDataset(\"data/encoded/train_sequences.npy\", \"data/encoded/train_targets.npy\")\n",
    "train_loader = torch.utils.data.DataLoader(training_data, batch_size=64, shuffle=True)\n",
    "train_features, train_labels = next(iter(train_loader))\n",
    "print(f\"Feature batch shape: {train_features.shape}\")\n",
    "print(f\"Labels batch shape: {train_labels.shape}\")\n",
    "\n",
    "\n",
    "val_data  = CustomDataset(\"data/encoded/val_sequences.npy\", \"data/encoded/val_targets.npy\")\n",
    "val_loader = torch.utils.data.DataLoader(val_data, batch_size=64, shuffle=True)\n",
    "val_features, val_labels = next(iter(val_loader))\n",
    "print(f\"Feature batch shape: {val_features.shape}\")\n",
    "print(f\"Labels batch shape: {val_labels.shape}\")"
   ]
  },
  {
   "cell_type": "code",
   "execution_count": null,
   "metadata": {},
   "outputs": [],
   "source": []
  },
  {
   "cell_type": "code",
   "execution_count": 2,
   "metadata": {},
   "outputs": [
    {
     "name": "stdout",
     "output_type": "stream",
     "text": [
      "EncoderClassifier(\n",
      "  (embedding): Embedding(\n",
      "    (token_embedding): Embedding(31, 256)\n",
      "    (dropout): Dropout(p=0.1, inplace=False)\n",
      "  )\n",
      "  (encoder): TransformerEncoder(\n",
      "    (layers): ModuleList(\n",
      "      (0-5): 6 x TransformerEncoderLayer(\n",
      "        (self_attn): MultiheadAttention(\n",
      "          (out_proj): NonDynamicallyQuantizableLinear(in_features=256, out_features=256, bias=True)\n",
      "        )\n",
      "        (linear1): Linear(in_features=256, out_features=1024, bias=True)\n",
      "        (dropout): Dropout(p=0.1, inplace=False)\n",
      "        (linear2): Linear(in_features=1024, out_features=256, bias=True)\n",
      "        (norm1): LayerNorm((256,), eps=1e-05, elementwise_affine=True)\n",
      "        (norm2): LayerNorm((256,), eps=1e-05, elementwise_affine=True)\n",
      "        (dropout1): Dropout(p=0.1, inplace=False)\n",
      "        (dropout2): Dropout(p=0.1, inplace=False)\n",
      "      )\n",
      "    )\n",
      "    (norm): LayerNorm((256,), eps=1e-05, elementwise_affine=True)\n",
      "  )\n",
      "  (dropout): Dropout(p=0.1, inplace=False)\n",
      "  (classifier): Sequential(\n",
      "    (0): Linear(in_features=256, out_features=256, bias=True)\n",
      "    (1): GELU(approximate='none')\n",
      "    (2): Dropout(p=0.1, inplace=False)\n",
      "    (3): Linear(in_features=256, out_features=41, bias=True)\n",
      "  )\n",
      ")\n"
     ]
    }
   ],
   "source": [
    "from src.models.EncoderClassifier import EncoderClassifier\n",
    "\n",
    "import yaml\n",
    "\n",
    "with open('parameter.yaml', 'r') as file:\n",
    "    config = yaml.safe_load(file)\n",
    "    \n",
    "# Model initialisieren\n",
    "model = EncoderClassifier(\n",
    "    vocab_size=config[\"data\"][\"vocab_size\"],\n",
    "    num_classes=config[\"data\"][\"num_classes\"],\n",
    "    embedding_dim=config[\"model\"][\"embedding_dim\"],\n",
    "    num_encoder_layers=config[\"model\"][\"num_encoder_layers\"],\n",
    "    num_heads=config[\"model\"][\"num_heads\"],\n",
    "    max_len=config[\"data\"][\"max_seq_length\"],\n",
    "    dropout_rate=config[\"model\"][\"dropout_rate\"],\n",
    ")\n",
    "print(model)\n",
    "\n"
   ]
  },
  {
   "cell_type": "code",
   "execution_count": 3,
   "metadata": {},
   "outputs": [],
   "source": [
    "import torch.nn as nn\n",
    "adam_opimizer = torch.optim.Adam(model.parameters(), lr=0.001, betas=(0.9, 0.98), eps=1e-9)\n",
    "criterion = nn.CrossEntropyLoss() #wie funktionert die im Gegensatz zu Categorical Cross Entropy\n",
    "\n"
   ]
  },
  {
   "cell_type": "code",
   "execution_count": 4,
   "metadata": {},
   "outputs": [
    {
     "name": "stdout",
     "output_type": "stream",
     "text": [
      "\n",
      "Epoch 1/100\n"
     ]
    },
    {
     "name": "stderr",
     "output_type": "stream",
     "text": [
      "Training: 100%|██████████| 1375/1375 [06:33<00:00,  3.49it/s, loss=2.4102, acc=0.3717]\n",
      "Validating: 100%|██████████| 564/564 [00:36<00:00, 15.50it/s]\n"
     ]
    },
    {
     "name": "stdout",
     "output_type": "stream",
     "text": [
      "Train Loss: 2.3839, Train Acc: 0.3717\n",
      "Val Loss: 29.0419, Val Acc: 0.0003\n",
      "\n",
      "Epoch 2/100\n"
     ]
    },
    {
     "name": "stderr",
     "output_type": "stream",
     "text": [
      "Training: 100%|██████████| 1375/1375 [06:35<00:00,  3.47it/s, loss=2.3956, acc=0.3660]\n",
      "Validating: 100%|██████████| 564/564 [00:36<00:00, 15.64it/s]\n"
     ]
    },
    {
     "name": "stdout",
     "output_type": "stream",
     "text": [
      "Train Loss: 2.4749, Train Acc: 0.3660\n",
      "Val Loss: 59.7591, Val Acc: 0.0003\n",
      "\n",
      "Epoch 3/100\n"
     ]
    },
    {
     "name": "stderr",
     "output_type": "stream",
     "text": [
      "Training: 100%|██████████| 1375/1375 [06:36<00:00,  3.47it/s, loss=2.5056, acc=0.3660]\n",
      "Validating: 100%|██████████| 564/564 [00:36<00:00, 15.56it/s]\n"
     ]
    },
    {
     "name": "stdout",
     "output_type": "stream",
     "text": [
      "Train Loss: 2.4731, Train Acc: 0.3660\n",
      "Val Loss: 87.0251, Val Acc: 0.0003\n",
      "\n",
      "Epoch 4/100\n"
     ]
    },
    {
     "name": "stderr",
     "output_type": "stream",
     "text": [
      "Training: 100%|██████████| 1375/1375 [06:36<00:00,  3.47it/s, loss=2.6120, acc=0.3660]\n",
      "Validating: 100%|██████████| 564/564 [00:36<00:00, 15.62it/s]\n"
     ]
    },
    {
     "name": "stdout",
     "output_type": "stream",
     "text": [
      "Train Loss: 2.4728, Train Acc: 0.3660\n",
      "Val Loss: 99.8604, Val Acc: 0.0003\n",
      "\n",
      "Epoch 5/100\n"
     ]
    },
    {
     "name": "stderr",
     "output_type": "stream",
     "text": [
      "Training:  17%|█▋        | 235/1375 [01:07<05:29,  3.46it/s, loss=2.4274, acc=0.3686]"
     ]
    }
   ],
   "source": [
    "from src.models.Trainer import Trainer\n",
    "\n",
    "# Trainer initialisieren\n",
    "trainer = Trainer(\n",
    "    model=model,\n",
    "    train_loader=train_loader,\n",
    "    val_loader=val_loader,\n",
    "    optimizer=adam_opimizer,\n",
    "    criterion=criterion\n",
    ")\n",
    "\n",
    "# Training starten\n",
    "trainer.train(\n",
    "    num_epochs=100,\n",
    "    save_path='models/base_model.pth',\n",
    "    early_stopping_patience=10\n",
    ")\n",
    "\n",
    "# Metriken plotten\n",
    "trainer.plot_metrics()"
   ]
  }
 ],
 "metadata": {
  "kernelspec": {
   "display_name": "Python 3",
   "language": "python",
   "name": "python3"
  },
  "language_info": {
   "codemirror_mode": {
    "name": "ipython",
    "version": 3
   },
   "file_extension": ".py",
   "mimetype": "text/x-python",
   "name": "python",
   "nbconvert_exporter": "python",
   "pygments_lexer": "ipython3",
   "version": "3.12.3"
  }
 },
 "nbformat": 4,
 "nbformat_minor": 2
}
